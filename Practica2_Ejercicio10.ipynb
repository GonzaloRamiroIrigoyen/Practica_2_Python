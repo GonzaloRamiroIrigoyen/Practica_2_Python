{
 "cells": [
  {
   "cell_type": "code",
   "execution_count": 1,
   "metadata": {},
   "outputs": [],
   "source": [
    "import Estructura\n",
    "import Funciones"
   ]
  },
  {
   "cell_type": "markdown",
   "metadata": {},
   "source": [
    "Importo los modulos que se utilizan.El modulo Estructura contiene una funcion que genera una estructura que contiene los datos del enunciado y el modulo Funciones contiene las funciones para resolver los demas puntos."
   ]
  },
  {
   "cell_type": "code",
   "execution_count": 2,
   "metadata": {},
   "outputs": [],
   "source": [
    "names = \"\"\" Agustin, Yanina, Andrés, Ariadna, Bautista, CAROLINA,\n",
    "CESAR, David, Diego, Dolores, DYLAN, ELIANA, Emanuel, Fabián, Noelia,\n",
    "Francsica', FEDERICO, Fernanda, GONZALO, Nancy \"\"\"\n",
    "goals = [0, 10, 4, 0, 5, 14, 0, 0, 7, 2, 1, 1, 1, 5, 6, 1, 1, 2, 0,\n",
    "11]\n",
    "goals_avoided = [0, 2, 0, 0, 5, 2, 0, 0, 1, 2, 0, 5, 5, 0, 1, 0, 2,\n",
    "3, 0, 0]\n",
    "assists = [0, 5, 1, 0, 5, 2, 0, 0, 1, 2, 1, 5, 5, 0, 1, 0, 2, 3, 1,\n",
    "0]"
   ]
  },
  {
   "cell_type": "markdown",
   "metadata": {},
   "source": [
    "Creacion de las 4 estructuras entregadas por el enunciado"
   ]
  },
  {
   "cell_type": "code",
   "execution_count": 3,
   "metadata": {},
   "outputs": [],
   "source": [
    "estruc_completa= Estructura.crear_estructura(names,goals,goals_avoided,assists)"
   ]
  },
  {
   "cell_type": "markdown",
   "metadata": {},
   "source": [
    "Creo un diccionario con listas dentro para el punto 1 con una funcion del modulo Estructura(Ademas acomoda el String \"names\" borrandole algunos caracteres especiales)"
   ]
  },
  {
   "cell_type": "code",
   "execution_count": 4,
   "metadata": {},
   "outputs": [
    {
     "name": "stdout",
     "output_type": "stream",
     "text": [
      "El/la goleador/a fue CAROLINA con 14 goles\n"
     ]
    }
   ],
   "source": [
    "goleador=Funciones.max_goleador(estruc_completa[\"Nombres\"],estruc_completa[\"Goles\"])\n",
    "print(f\"El/la goleador/a fue {goleador[0]} con {goleador[1]} goles\")"
   ]
  },
  {
   "cell_type": "markdown",
   "metadata": {},
   "source": [
    "Usando la funcion max_goleador del modulo Funciones calculo la maxima cantidad de goles junto al nombre del jugado que metio esa cantidad calculndo su indice y retorno ambas a goleador(resolucion punto 2)"
   ]
  },
  {
   "cell_type": "code",
   "execution_count": 5,
   "metadata": {},
   "outputs": [
    {
     "name": "stdout",
     "output_type": "stream",
     "text": [
      "El/la mayor influyente fue CAROLINA\n"
     ]
    }
   ],
   "source": [
    "mayor_influyente=Funciones.mas_influyente(estruc_completa)\n",
    "print(f\"El/la mayor influyente fue {mayor_influyente}\")"
   ]
  },
  {
   "cell_type": "markdown",
   "metadata": {},
   "source": [
    "En mayor_influyente retorno el nombre de la persona que mas influyo en el equipo.Con la funcion mas_influyente se va calculando la influencia de cada jugador y al final se termina quedando con la persona que mas puntaje tuvo."
   ]
  }
 ],
 "metadata": {
  "kernelspec": {
   "display_name": "venv",
   "language": "python",
   "name": "python3"
  },
  "language_info": {
   "codemirror_mode": {
    "name": "ipython",
    "version": 3
   },
   "file_extension": ".py",
   "mimetype": "text/x-python",
   "name": "python",
   "nbconvert_exporter": "python",
   "pygments_lexer": "ipython3",
   "version": "3.11.7"
  }
 },
 "nbformat": 4,
 "nbformat_minor": 2
}
